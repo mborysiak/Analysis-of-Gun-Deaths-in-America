{
 "cells": [
  {
   "cell_type": "code",
   "execution_count": 14,
   "metadata": {},
   "outputs": [],
   "source": [
    "import csv\n",
    "\n",
    "f = open(\"guns.csv\",'r')\n",
    "d = csv.reader(f, delimiter = \",\")\n",
    "data = list(d)\n",
    "\n",
    "headers = data[0]\n",
    "data = data[1:]"
   ]
  },
  {
   "cell_type": "code",
   "execution_count": 3,
   "metadata": {},
   "outputs": [],
   "source": [
    "year_counts = {}\n",
    "\n",
    "for row in data:\n",
    "    year = row[1]\n",
    "    if year in year_counts:\n",
    "        year_counts[year] += 1\n",
    "    else:\n",
    "        year_counts[year] = 1"
   ]
  },
  {
   "cell_type": "code",
   "execution_count": 4,
   "metadata": {},
   "outputs": [],
   "source": [
    "import datetime\n",
    "\n",
    "dates = []\n",
    "for row in data:\n",
    "    year = int(row[1])\n",
    "    month = int(row[2])\n",
    "    day = datetime.datetime(year, month, day = 1)\n",
    "    dates.append(day)"
   ]
  },
  {
   "cell_type": "code",
   "execution_count": 5,
   "metadata": {},
   "outputs": [],
   "source": [
    "date_counts = {}\n",
    "\n",
    "for date in dates:\n",
    "    if date in date_counts:\n",
    "        date_counts[date] += 1\n",
    "    else:\n",
    "        date_counts[date] = 1"
   ]
  },
  {
   "cell_type": "code",
   "execution_count": 6,
   "metadata": {},
   "outputs": [],
   "source": [
    "sex_counts = {}\n",
    "for row in data:\n",
    "    sex = row[5]\n",
    "    if sex in sex_counts:\n",
    "        sex_counts[sex] += 1\n",
    "    else:\n",
    "        sex_counts[sex] = 1"
   ]
  },
  {
   "cell_type": "code",
   "execution_count": 7,
   "metadata": {},
   "outputs": [],
   "source": [
    "race_counts = {}\n",
    "for row in data:\n",
    "    race = row[7]\n",
    "    if race in race_counts:\n",
    "        race_counts[race] += 1\n",
    "    else:\n",
    "        race_counts[race] = 1"
   ]
  },
  {
   "cell_type": "markdown",
   "metadata": {},
   "source": [
    "### What we've learned so far:\n",
    "\n",
    "- White Americans suffer the most deaths by raw totals, but it appears minorities (particularly Blacks) may suffer more per capita. Further census data is needed.\n",
    "\n",
    "- Males suffer disproportionately more gun deaths than females.\n",
    "\n",
    "- Gun deaths were consistent by year, but appear to peak in the summer months."
   ]
  },
  {
   "cell_type": "code",
   "execution_count": 8,
   "metadata": {
    "collapsed": true
   },
   "outputs": [],
   "source": [
    "f = open(\"census.csv\",'r')\n",
    "d = csv.reader(f, delimiter = ',')\n",
    "census = list(d)"
   ]
  },
  {
   "cell_type": "code",
   "execution_count": 9,
   "metadata": {
    "collapsed": true
   },
   "outputs": [],
   "source": [
    "census_counts = {\n",
    "    \"White\": int(census[1][10]),\n",
    "    \"Hispanic\": int(census[1][11]),\n",
    "    \"Black\": int(census[1][12]),\n",
    "    \"Native American/Native Alaskan\": int(census[1][13]),\n",
    "    \"Asian/Pacific Islander\": (int(census[1][14]) + int(census[1][15]))\n",
    "}"
   ]
  },
  {
   "cell_type": "code",
   "execution_count": 10,
   "metadata": {
    "collapsed": true
   },
   "outputs": [],
   "source": [
    "race_per_hundredk = {}\n",
    "\n",
    "for k,v in race_counts.items():\n",
    "    race_per_hundredk[k] = (100000 * v / census_counts[k])"
   ]
  },
  {
   "cell_type": "code",
   "execution_count": 33,
   "metadata": {},
   "outputs": [
    {
     "data": {
      "text/plain": [
       "{'Asian/Pacific Islander': 3.5303462309701548,\n",
       " 'Black': 48.47128498718095,\n",
       " 'Hispanic': 12.627161104219912,\n",
       " 'Native American/Native Alaskan': 8.717729026240365,\n",
       " 'White': 4.6356417981453335}"
      ]
     },
     "execution_count": 33,
     "metadata": {},
     "output_type": "execute_result"
    }
   ],
   "source": [
    "## Number of Homicides by Race (per capita times 100k)\n",
    "\n",
    "intents = [row[3] for row in data]\n",
    "race = [row[7] for row in data]\n",
    "\n",
    "homicide_race_counts = {}\n",
    "\n",
    "for i, intent in enumerate(intents):\n",
    "    if intent == \"Homicide\":\n",
    "        if race[i] in homicide_race_counts:\n",
    "            homicide_race_counts[race[i]] += 1\n",
    "        else:\n",
    "            homicide_race_counts[race[i]] = 1\n",
    "    \n",
    "    \n",
    "race_per_hundredk_intent = {}\n",
    "\n",
    "for k, v in homicide_race_counts.items():\n",
    "    race_per_hundredk_intent[k] = (100000 * v / census_counts[k])\n",
    "    \n",
    "race_per_hundredk_intent"
   ]
  },
  {
   "cell_type": "code",
   "execution_count": 32,
   "metadata": {},
   "outputs": [
    {
     "data": {
      "text/plain": [
       "{'Asian/Pacific Islander': 0.5272897395966244,\n",
       " 'Black': 2.4614999739564682,\n",
       " 'Hispanic': 1.7589786207972435,\n",
       " 'Native American/Native Alaskan': 1.8605799992089493,\n",
       " 'White': 1.0}"
      ]
     },
     "execution_count": 32,
     "metadata": {},
     "output_type": "execute_result"
    }
   ],
   "source": [
    "## Gun Deaths from Police by Race (per capita times 100k)\n",
    "\n",
    "police = [row[4] for row in data]\n",
    "\n",
    "police_death_race = {}\n",
    "for i, k in enumerate(police):\n",
    "    if k == '1':\n",
    "        if race[i] in police_death_race:\n",
    "            police_death_race[race[i]] += 1\n",
    "        else:\n",
    "            police_death_race[race[i]] = 1\n",
    "\n",
    "\n",
    "police_race_per_hundredk = {}\n",
    "for j, v in police_death_race.items():\n",
    "    police_race_per_hundredk[j] = (100000 * v / census_counts[j])\n",
    "    \n",
    "    \n",
    "normalized_police_death_race = {}\n",
    "for row in police_death_race:\n",
    "    normalized_police_death_race[row] = police_race_per_hundredk[row] / police_race_per_hundredk[\"White\"]\n",
    "\n",
    "normalized_police_death_race"
   ]
  },
  {
   "cell_type": "code",
   "execution_count": null,
   "metadata": {},
   "outputs": [],
   "source": []
  },
  {
   "cell_type": "code",
   "execution_count": null,
   "metadata": {
    "collapsed": true
   },
   "outputs": [],
   "source": []
  }
 ],
 "metadata": {
  "kernelspec": {
   "display_name": "Python 3",
   "language": "python",
   "name": "python3"
  },
  "language_info": {
   "codemirror_mode": {
    "name": "ipython",
    "version": 3
   },
   "file_extension": ".py",
   "mimetype": "text/x-python",
   "name": "python",
   "nbconvert_exporter": "python",
   "pygments_lexer": "ipython3",
   "version": "3.6.1"
  }
 },
 "nbformat": 4,
 "nbformat_minor": 1
}
